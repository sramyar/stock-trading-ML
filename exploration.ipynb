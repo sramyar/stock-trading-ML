{
 "cells": [
  {
   "cell_type": "code",
   "execution_count": null,
   "metadata": {},
   "outputs": [],
   "source": []
  },
  {
   "cell_type": "code",
   "execution_count": 168,
   "metadata": {},
   "outputs": [],
   "source": [
    "import pandas as pd\n",
    "import numpy as np"
   ]
  },
  {
   "cell_type": "code",
   "execution_count": 169,
   "metadata": {},
   "outputs": [],
   "source": [
    "data = pd.read_csv('data.csv', parse_dates = ['date'])"
   ]
  },
  {
   "cell_type": "code",
   "execution_count": 4,
   "metadata": {},
   "outputs": [
    {
     "data": {
      "text/html": [
       "<div>\n",
       "<style scoped>\n",
       "    .dataframe tbody tr th:only-of-type {\n",
       "        vertical-align: middle;\n",
       "    }\n",
       "\n",
       "    .dataframe tbody tr th {\n",
       "        vertical-align: top;\n",
       "    }\n",
       "\n",
       "    .dataframe thead th {\n",
       "        text-align: right;\n",
       "    }\n",
       "</style>\n",
       "<table border=\"1\" class=\"dataframe\">\n",
       "  <thead>\n",
       "    <tr style=\"text-align: right;\">\n",
       "      <th></th>\n",
       "      <th>ticker</th>\n",
       "      <th>date</th>\n",
       "      <th>open</th>\n",
       "      <th>high</th>\n",
       "      <th>low</th>\n",
       "      <th>close</th>\n",
       "      <th>volume</th>\n",
       "      <th>ex-dividend</th>\n",
       "      <th>split_ratio</th>\n",
       "      <th>adj_open</th>\n",
       "      <th>adj_high</th>\n",
       "      <th>adj_low</th>\n",
       "      <th>adj_close</th>\n",
       "      <th>adj_volume</th>\n",
       "    </tr>\n",
       "  </thead>\n",
       "  <tbody>\n",
       "    <tr>\n",
       "      <th>6102161</th>\n",
       "      <td>GOOG</td>\n",
       "      <td>2014-03-27</td>\n",
       "      <td>568.000</td>\n",
       "      <td>568.00</td>\n",
       "      <td>552.92</td>\n",
       "      <td>558.46</td>\n",
       "      <td>13100.0</td>\n",
       "      <td>0.0</td>\n",
       "      <td>1.0</td>\n",
       "      <td>568.000</td>\n",
       "      <td>568.00</td>\n",
       "      <td>552.92</td>\n",
       "      <td>558.46</td>\n",
       "      <td>13100.0</td>\n",
       "    </tr>\n",
       "    <tr>\n",
       "      <th>6102162</th>\n",
       "      <td>GOOG</td>\n",
       "      <td>2014-03-28</td>\n",
       "      <td>561.200</td>\n",
       "      <td>566.43</td>\n",
       "      <td>558.67</td>\n",
       "      <td>559.99</td>\n",
       "      <td>41100.0</td>\n",
       "      <td>0.0</td>\n",
       "      <td>1.0</td>\n",
       "      <td>561.200</td>\n",
       "      <td>566.43</td>\n",
       "      <td>558.67</td>\n",
       "      <td>559.99</td>\n",
       "      <td>41100.0</td>\n",
       "    </tr>\n",
       "    <tr>\n",
       "      <th>6102163</th>\n",
       "      <td>GOOG</td>\n",
       "      <td>2014-03-31</td>\n",
       "      <td>566.890</td>\n",
       "      <td>567.00</td>\n",
       "      <td>556.93</td>\n",
       "      <td>556.97</td>\n",
       "      <td>10800.0</td>\n",
       "      <td>0.0</td>\n",
       "      <td>1.0</td>\n",
       "      <td>566.890</td>\n",
       "      <td>567.00</td>\n",
       "      <td>556.93</td>\n",
       "      <td>556.97</td>\n",
       "      <td>10800.0</td>\n",
       "    </tr>\n",
       "    <tr>\n",
       "      <th>6102164</th>\n",
       "      <td>GOOG</td>\n",
       "      <td>2014-04-01</td>\n",
       "      <td>558.710</td>\n",
       "      <td>568.45</td>\n",
       "      <td>558.71</td>\n",
       "      <td>567.16</td>\n",
       "      <td>7900.0</td>\n",
       "      <td>0.0</td>\n",
       "      <td>1.0</td>\n",
       "      <td>558.710</td>\n",
       "      <td>568.45</td>\n",
       "      <td>558.71</td>\n",
       "      <td>567.16</td>\n",
       "      <td>7900.0</td>\n",
       "    </tr>\n",
       "    <tr>\n",
       "      <th>6102165</th>\n",
       "      <td>GOOG</td>\n",
       "      <td>2014-04-02</td>\n",
       "      <td>565.106</td>\n",
       "      <td>604.83</td>\n",
       "      <td>562.19</td>\n",
       "      <td>567.00</td>\n",
       "      <td>146700.0</td>\n",
       "      <td>0.0</td>\n",
       "      <td>1.0</td>\n",
       "      <td>565.106</td>\n",
       "      <td>604.83</td>\n",
       "      <td>562.19</td>\n",
       "      <td>567.00</td>\n",
       "      <td>146700.0</td>\n",
       "    </tr>\n",
       "  </tbody>\n",
       "</table>\n",
       "</div>"
      ],
      "text/plain": [
       "        ticker       date     open    high     low   close    volume  \\\n",
       "6102161   GOOG 2014-03-27  568.000  568.00  552.92  558.46   13100.0   \n",
       "6102162   GOOG 2014-03-28  561.200  566.43  558.67  559.99   41100.0   \n",
       "6102163   GOOG 2014-03-31  566.890  567.00  556.93  556.97   10800.0   \n",
       "6102164   GOOG 2014-04-01  558.710  568.45  558.71  567.16    7900.0   \n",
       "6102165   GOOG 2014-04-02  565.106  604.83  562.19  567.00  146700.0   \n",
       "\n",
       "         ex-dividend  split_ratio  adj_open  adj_high  adj_low  adj_close  \\\n",
       "6102161          0.0          1.0   568.000    568.00   552.92     558.46   \n",
       "6102162          0.0          1.0   561.200    566.43   558.67     559.99   \n",
       "6102163          0.0          1.0   566.890    567.00   556.93     556.97   \n",
       "6102164          0.0          1.0   558.710    568.45   558.71     567.16   \n",
       "6102165          0.0          1.0   565.106    604.83   562.19     567.00   \n",
       "\n",
       "         adj_volume  \n",
       "6102161     13100.0  \n",
       "6102162     41100.0  \n",
       "6102163     10800.0  \n",
       "6102164      7900.0  \n",
       "6102165    146700.0  "
      ]
     },
     "execution_count": 4,
     "metadata": {},
     "output_type": "execute_result"
    }
   ],
   "source": [
    "g = data[data.ticker == 'GOOG']\n",
    "g.sort_values(by = 'date').head()"
   ]
  },
  {
   "cell_type": "code",
   "execution_count": 5,
   "metadata": {},
   "outputs": [
    {
     "data": {
      "text/plain": [
       "<matplotlib.axes._subplots.AxesSubplot at 0x7f167c544510>"
      ]
     },
     "execution_count": 5,
     "metadata": {},
     "output_type": "execute_result"
    }
   ],
   "source": [
    "data[data.ticker == 'AAPL'].sort_values(by = 'date').adj_close.plot()"
   ]
  },
  {
   "cell_type": "code",
   "execution_count": 6,
   "metadata": {},
   "outputs": [
    {
     "data": {
      "text/plain": [
       "ticker                 object\n",
       "date           datetime64[ns]\n",
       "open                  float64\n",
       "high                  float64\n",
       "low                   float64\n",
       "close                 float64\n",
       "volume                float64\n",
       "ex-dividend           float64\n",
       "split_ratio           float64\n",
       "adj_open              float64\n",
       "adj_high              float64\n",
       "adj_low               float64\n",
       "adj_close             float64\n",
       "adj_volume            float64\n",
       "dtype: object"
      ]
     },
     "execution_count": 6,
     "metadata": {},
     "output_type": "execute_result"
    }
   ],
   "source": [
    "data.dtypes\n"
   ]
  },
  {
   "cell_type": "code",
   "execution_count": 27,
   "metadata": {},
   "outputs": [
    {
     "data": {
      "image/png": "[encoded data removed]",
      "text/plain": [
       "<Figure size 432x288 with 1 Axes>"
      ]
     },
     "metadata": {
      "needs_background": "light"
     },
     "output_type": "display_data"
    }
   ],
   "source": [
    "data[data.ticker == 'GS'].adj_close.plot()\n",
    "d = data[data.ticker == 'GS'].adj_close"
   ]
  },
  {
   "cell_type": "code",
   "execution_count": 30,
   "metadata": {},
   "outputs": [
    {
     "data": {
      "image/png": "[encoded data removed]",
      "text/plain": [
       "<Figure size 432x288 with 1 Axes>"
      ]
     },
     "metadata": {
      "needs_background": "light"
     },
     "output_type": "display_data"
    }
   ],
   "source": [
    "import matplotlib.pyplot as plt\n",
    "\n",
    "fig, ax = plt.subplots()\n",
    "ax.plot('date', 'adj_close', data= data[data.ticker == 'GS'])\n",
    "plt.show()\n"
   ]
  },
  {
   "cell_type": "code",
   "execution_count": 43,
   "metadata": {},
   "outputs": [
    {
     "data": {
      "text/plain": [
       "Timestamp('1999-05-04 00:00:00')"
      ]
     },
     "execution_count": 43,
     "metadata": {},
     "output_type": "execute_result"
    }
   ],
   "source": [
    "data[data.ticker == 'GS'][['date']].iloc[0][0]"
   ]
  },
  {
   "cell_type": "code",
   "execution_count": null,
   "metadata": {},
   "outputs": [],
   "source": []
  },
  {
   "cell_type": "code",
   "execution_count": 25,
   "metadata": {},
   "outputs": [],
   "source": [
    "import sklearn\n",
    "from sklearn.linear_model import LinearRegression\n",
    "a = 1"
   ]
  },
  {
   "cell_type": "code",
   "execution_count": 26,
   "metadata": {},
   "outputs": [],
   "source": [
    "class Estimator:\n",
    "\n",
    "    def __init__(self, estimator_type):\n",
    "        '''\n",
    "        Constructor that takes in the type of estimator as a parameter\n",
    "        '''\n",
    "        if estimator_type == 'linreg':\n",
    "            from sklearn.linear_model import LinearRegression\n",
    "            self.learner = LinearRegression()\n",
    "\n",
    "    def get_data(self, start_date, end_date, tickers, data):\n",
    "        '''\n",
    "        INPUT - start and end dates as well as list of tickers for the data\n",
    "\n",
    "        OUTPUT - a dictionary mapping the data for each corresponding ticker\n",
    "        '''\n",
    "        dataset = {}\n",
    "        \n",
    "        for ticker in tickers:\n",
    "            try:\n",
    "                xy = []\n",
    "\n",
    "                frame = data[(data.ticker == ticker) & (data.date <= end_date) &\n",
    "                (data.date >= start_date)]\n",
    "\n",
    "                xy.append(frame[['open', 'high', 'low', 'close', 'volume']])\n",
    "                \n",
    "                xy.append(frame[['adj_close']])\n",
    "\n",
    "                dataset[ticker] = xy\n",
    "            except:\n",
    "                print('No such date available in the dataset. Choose dates again.')\n",
    "                break\n",
    "        \n",
    "        return dataset\n",
    "\n",
    "\n",
    "    def trainer(self, start_date, end_date, tickers, data):\n",
    "        '''\n",
    "        INPUT - start and end date for date, list of tickers, and the data set\n",
    "\n",
    "        OUTPUT - a dictionary mapping each ticker to its trained model\n",
    "        '''\n",
    "        train_data = self.get_data(start_date, end_date, tickers, data)\n",
    "\n",
    "        output = []\n",
    "\n",
    "        for ticker in tickers:\n",
    "            X, y = train_data[ticker][0], train_data[ticker][1]\n",
    "            model = LinearRegression().fit(X,y)\n",
    "            output.append((ticker, model))\n",
    "        \n",
    "        return output"
   ]
  },
  {
   "cell_type": "code",
   "execution_count": 27,
   "metadata": {},
   "outputs": [],
   "source": [
    "a = 0\n",
    "a = Estimator('linreg')\n",
    "\n",
    "o = a.trainer('2002-05-01', '2017-05-01', ['GS'], data)"
   ]
  },
  {
   "cell_type": "code",
   "execution_count": 48,
   "metadata": {},
   "outputs": [
    {
     "data": {
      "text/html": [
       "<div>\n",
       "<style scoped>\n",
       "    .dataframe tbody tr th:only-of-type {\n",
       "        vertical-align: middle;\n",
       "    }\n",
       "\n",
       "    .dataframe tbody tr th {\n",
       "        vertical-align: top;\n",
       "    }\n",
       "\n",
       "    .dataframe thead th {\n",
       "        text-align: right;\n",
       "    }\n",
       "</style>\n",
       "<table border=\"1\" class=\"dataframe\">\n",
       "  <thead>\n",
       "    <tr style=\"text-align: right;\">\n",
       "      <th></th>\n",
       "      <th>open</th>\n",
       "      <th>high</th>\n",
       "      <th>low</th>\n",
       "      <th>close</th>\n",
       "      <th>volume</th>\n",
       "    </tr>\n",
       "  </thead>\n",
       "  <tbody>\n",
       "    <tr>\n",
       "      <th>6195816</th>\n",
       "      <td>78.55</td>\n",
       "      <td>79.75</td>\n",
       "      <td>77.00</td>\n",
       "      <td>79.21</td>\n",
       "      <td>4153900.0</td>\n",
       "    </tr>\n",
       "    <tr>\n",
       "      <th>6195817</th>\n",
       "      <td>80.00</td>\n",
       "      <td>81.00</td>\n",
       "      <td>79.80</td>\n",
       "      <td>80.71</td>\n",
       "      <td>4576800.0</td>\n",
       "    </tr>\n",
       "    <tr>\n",
       "      <th>6195818</th>\n",
       "      <td>80.31</td>\n",
       "      <td>80.32</td>\n",
       "      <td>78.45</td>\n",
       "      <td>78.55</td>\n",
       "      <td>3450400.0</td>\n",
       "    </tr>\n",
       "    <tr>\n",
       "      <th>6195819</th>\n",
       "      <td>78.80</td>\n",
       "      <td>79.09</td>\n",
       "      <td>75.15</td>\n",
       "      <td>75.16</td>\n",
       "      <td>3258900.0</td>\n",
       "    </tr>\n",
       "    <tr>\n",
       "      <th>6195820</th>\n",
       "      <td>76.00</td>\n",
       "      <td>76.10</td>\n",
       "      <td>74.00</td>\n",
       "      <td>74.85</td>\n",
       "      <td>4740400.0</td>\n",
       "    </tr>\n",
       "    <tr>\n",
       "      <th>...</th>\n",
       "      <td>...</td>\n",
       "      <td>...</td>\n",
       "      <td>...</td>\n",
       "      <td>...</td>\n",
       "      <td>...</td>\n",
       "    </tr>\n",
       "    <tr>\n",
       "      <th>6199588</th>\n",
       "      <td>226.20</td>\n",
       "      <td>227.98</td>\n",
       "      <td>225.15</td>\n",
       "      <td>226.63</td>\n",
       "      <td>3970750.0</td>\n",
       "    </tr>\n",
       "    <tr>\n",
       "      <th>6199589</th>\n",
       "      <td>227.10</td>\n",
       "      <td>229.36</td>\n",
       "      <td>226.09</td>\n",
       "      <td>226.20</td>\n",
       "      <td>3587794.0</td>\n",
       "    </tr>\n",
       "    <tr>\n",
       "      <th>6199590</th>\n",
       "      <td>226.70</td>\n",
       "      <td>226.70</td>\n",
       "      <td>223.52</td>\n",
       "      <td>225.81</td>\n",
       "      <td>2800420.0</td>\n",
       "    </tr>\n",
       "    <tr>\n",
       "      <th>6199591</th>\n",
       "      <td>225.31</td>\n",
       "      <td>226.77</td>\n",
       "      <td>223.72</td>\n",
       "      <td>223.80</td>\n",
       "      <td>2932137.0</td>\n",
       "    </tr>\n",
       "    <tr>\n",
       "      <th>6199592</th>\n",
       "      <td>224.90</td>\n",
       "      <td>226.39</td>\n",
       "      <td>220.93</td>\n",
       "      <td>224.85</td>\n",
       "      <td>3002260.0</td>\n",
       "    </tr>\n",
       "  </tbody>\n",
       "</table>\n",
       "<p>3777 rows × 5 columns</p>\n",
       "</div>"
      ],
      "text/plain": [
       "           open    high     low   close     volume\n",
       "6195816   78.55   79.75   77.00   79.21  4153900.0\n",
       "6195817   80.00   81.00   79.80   80.71  4576800.0\n",
       "6195818   80.31   80.32   78.45   78.55  3450400.0\n",
       "6195819   78.80   79.09   75.15   75.16  3258900.0\n",
       "6195820   76.00   76.10   74.00   74.85  4740400.0\n",
       "...         ...     ...     ...     ...        ...\n",
       "6199588  226.20  227.98  225.15  226.63  3970750.0\n",
       "6199589  227.10  229.36  226.09  226.20  3587794.0\n",
       "6199590  226.70  226.70  223.52  225.81  2800420.0\n",
       "6199591  225.31  226.77  223.72  223.80  2932137.0\n",
       "6199592  224.90  226.39  220.93  224.85  3002260.0\n",
       "\n",
       "[3777 rows x 5 columns]"
      ]
     },
     "execution_count": 48,
     "metadata": {},
     "output_type": "execute_result"
    }
   ],
   "source": [
    "frame = data[(data.ticker == 'GS') & (data.date <= '2017-05-01') &\n",
    "                (data.date >= '2002-05-01')]\n",
    "frame[['open', 'high', 'low', 'close', 'volume']]"
   ]
  },
  {
   "cell_type": "code",
   "execution_count": 75,
   "metadata": {},
   "outputs": [],
   "source": [
    "class Estimator:\n",
    "\n",
    "    def __init__(self, estimator_type, trainstart, trainend, teststart,\n",
    "                    testend, tickers_list, dataset):\n",
    "        '''\n",
    "        Constructor that takes in the type of estimator as a parameter\n",
    "        As well as start and end dates for test and train data, the dataset\n",
    "        and the list of tickers\n",
    "        '''\n",
    "        if estimator_type == 'linreg':\n",
    "            self.learner = LinearRegression()\n",
    "        if estimator_type == 'knn':\n",
    "            self.learner = KNeighborsRegressor()\n",
    "        if estimator_type == 'gbr':\n",
    "            self.learner = GradientBoostingRegressor()\n",
    "        if estimator_type == 'rfr':\n",
    "            self.learner = RandomForestRegressor()\n",
    "\n",
    "        self.train_start = trainstart\n",
    "        self.train_end = trainend\n",
    "        self.test_start = teststart\n",
    "        self.test_end = testend\n",
    "\n",
    "        self.tickers = tickers_list\n",
    "        self.data = dataset\n",
    "        self.models = []\n",
    "        self.predicts = []\n",
    "        \n",
    "    def get_data(self, start_date, end_date, ticker):\n",
    "        '''\n",
    "        INPUT - self\n",
    "\n",
    "        OUTPUT - a dictionary mapping the data for each corresponding ticker\n",
    "        '''\n",
    "        #dataset = {}\n",
    "        \n",
    "        #for ticker in self.tickers:\n",
    "        try:\n",
    "            xy = []\n",
    "\n",
    "            frame = self.data[(self.data.ticker == ticker) & (self.data.date <= end_date) & (self.data.date >= start_date)]\n",
    "\n",
    "            xy.append(frame[['open', 'high', 'low', 'close', 'volume']])\n",
    "              \n",
    "            xy.append(frame[['adj_close']])\n",
    "\n",
    "                #dataset[ticker] = xy\n",
    "\n",
    "        except:\n",
    "            print('No such date available in the dataset. Choose dates again.')\n",
    "            #break\n",
    "        \n",
    "        return xy #dataset\n",
    "\n",
    "\n",
    "    def train(self):\n",
    "        '''\n",
    "        INPUT - self\n",
    "\n",
    "        OUTPUT - Returns True when models are succesfully learned\n",
    "        '''\n",
    "\n",
    "        for ticker in self.tickers:\n",
    "            train_data = self.get_data(self.train_start, self.train_end, ticker)\n",
    "            X, y = train_data[0], train_data[1]\n",
    "            model = self.learner.fit(X,y)\n",
    "            self.models.append((ticker, model))\n",
    "        \n",
    "        return True\n",
    "\n",
    "    def test(self):\n",
    "        '''\n",
    "        INPUT - start and end date for test data as well as list of tickers\n",
    "\n",
    "        OUTPUT - returns true when test is done successfully\n",
    "        '''\n",
    "\n",
    "        test_data = self.get_data(self.test_start, self.test_end)\n",
    "\n",
    "        for k,v in test_data.items():\n",
    "            Xtest = v[0]\n",
    "            ytest = v[1]\n",
    "            try:\n",
    "                model = [item[1] for item in self.models if item[0] == k][0]\n",
    "            except:\n",
    "                print('Something about ticker consistency not right!')\n",
    "            self.predicts.append(k, model.predict(Xtest))\n",
    "\n",
    "        return True\n",
    "\n",
    "    def show_results(self):\n",
    "        '''\n",
    "        INPUT - self\n",
    "\n",
    "        OUPUT - Outputs the train and test results\n",
    "        '''\n",
    "\n",
    "        self.train()\n",
    "\n",
    "        for tm in self.models:\n",
    "            test_data = self.get_data(self.test_start, self.test_end, ticker = tm[0])\n",
    "            X = test_data[0]\n",
    "            y = test_data[1]\n",
    "            print(\"R-squared on test data for {} between {} and {} is {}\".format(\n",
    "                tm[0], self.test_start, self.test_end,\n",
    "                tm[1].score(X,y)))\n",
    "\n"
   ]
  },
  {
   "cell_type": "code",
   "execution_count": 76,
   "metadata": {},
   "outputs": [],
   "source": [
    "es = Estimator('linreg','2002-05-01', '2010-05-01', '2011-05-01', '2013-12-01',['GS'], data)"
   ]
  },
  {
   "cell_type": "code",
   "execution_count": 77,
   "metadata": {},
   "outputs": [
    {
     "name": "stdout",
     "output_type": "stream",
     "text": [
      "R-squared on test data for GS between 2011-05-01 and 2013-12-01 is 0.8917023486010649\n"
     ]
    }
   ],
   "source": [
    "es.show_results()"
   ]
  },
  {
   "cell_type": "code",
   "execution_count": 170,
   "metadata": {},
   "outputs": [],
   "source": [
    "from sklearn.linear_model import LinearRegression, Lasso\n",
    "from sklearn.ensemble import RandomForestRegressor, GradientBoostingRegressor\n",
    "from sklearn.neighbors import KNeighborsRegressor"
   ]
  },
  {
   "cell_type": "code",
   "execution_count": 79,
   "metadata": {},
   "outputs": [
    {
     "name": "stdout",
     "output_type": "stream",
     "text": [
      "R-squared on test data for GS between 2011-05-01 and 2013-12-01 is 0.8917023486010649\n",
      "R-squared on test data for GS between 2011-05-01 and 2013-12-01 is -2.362709188778102\n"
     ]
    },
    {
     "name": "stderr",
     "output_type": "stream",
     "text": [
      "/home/sepehr/projects/env/lib/python3.7/site-packages/sklearn/ensemble/gradient_boosting.py:1450: DataConversionWarning: A column-vector y was passed when a 1d array was expected. Please change the shape of y to (n_samples, ), for example using ravel().\n",
      "  y = column_or_1d(y, warn=True)\n"
     ]
    },
    {
     "name": "stdout",
     "output_type": "stream",
     "text": [
      "R-squared on test data for GS between 2011-05-01 and 2013-12-01 is 0.892163359921428\n"
     ]
    },
    {
     "name": "stderr",
     "output_type": "stream",
     "text": [
      "/home/sepehr/projects/env/lib/python3.7/site-packages/sklearn/ensemble/forest.py:245: FutureWarning: The default value of n_estimators will change from 10 in version 0.20 to 100 in 0.22.\n",
      "  \"10 in version 0.20 to 100 in 0.22.\", FutureWarning)\n",
      "/home/sepehr/projects/env/lib/python3.7/site-packages/ipykernel_launcher.py:66: DataConversionWarning: A column-vector y was passed when a 1d array was expected. Please change the shape of y to (n_samples,), for example using ravel().\n"
     ]
    },
    {
     "name": "stdout",
     "output_type": "stream",
     "text": [
      "R-squared on test data for GS between 2011-05-01 and 2013-12-01 is 0.8910405751662084\n"
     ]
    }
   ],
   "source": [
    "methods = ['linreg', 'knn', 'gbr', 'rfr']\n",
    "for method in methods:\n",
    "    a = Estimator(method,'2002-05-01', '2010-05-01', '2011-05-01', '2013-12-01',['GS'], data)\n",
    "    a.show_results()\n",
    "    a = 0"
   ]
  },
  {
   "cell_type": "code",
   "execution_count": 184,
   "metadata": {},
   "outputs": [],
   "source": [
    "import numpy as np\n",
    "\n",
    "class Estimator:\n",
    "\n",
    "    def __init__(self, estimator_type, trainstart, trainend, teststart,\n",
    "                    testend, tickers_list, dataset):\n",
    "        '''\n",
    "        Constructor that takes in the type of estimator as a parameter\n",
    "        As well as start and end dates for test and train data, the dataset\n",
    "        and the list of tickers\n",
    "        '''\n",
    "        if estimator_type == 'linreg':\n",
    "            self.learner = LinearRegression()\n",
    "        if estimator_type == 'lasso':\n",
    "            self.learner = Lasso()\n",
    "        if estimator_type == 'knn':\n",
    "            self.learner = KNeighborsRegressor(n_neighbors = 3, weights = 'distance', algorithm = 'auto')\n",
    "        if estimator_type == 'gbr':\n",
    "            self.learner = GradientBoostingRegressor(n_estimators = 10000)\n",
    "        if estimator_type == 'rfr':\n",
    "            self.learner = RandomForestRegressor(n_estimators = 1000)\n",
    "\n",
    "        self.train_start = trainstart\n",
    "        self.train_end = trainend\n",
    "        self.test_start = teststart\n",
    "        self.test_end = testend\n",
    "\n",
    "        self.tickers = tickers_list\n",
    "        self.data = dataset\n",
    "        self.models = []\n",
    "        self.predicts = []\n",
    "        \n",
    "    def get_data(self, start_date, end_date, ticker):\n",
    "        '''\n",
    "        INPUT - self\n",
    "\n",
    "        OUTPUT - X and y as features and labels\n",
    "        '''\n",
    "        try:\n",
    "\n",
    "            frame = self.data[(self.data.ticker == ticker) & \n",
    "            (self.data.date <= end_date) & (self.data.date >= start_date)]\n",
    "\n",
    "            X = np.array(frame[['open', 'high', 'low', 'close', 'volume']])\n",
    "                \n",
    "            y = np.ravel(frame[['adj_close']])\n",
    "\n",
    "        except:\n",
    "            print('No such date available in the dataset. Choose dates again.')\n",
    "        \n",
    "        return X, y\n",
    "\n",
    "\n",
    "    def train(self):\n",
    "        '''\n",
    "        INPUT - self\n",
    "\n",
    "        OUTPUT - Returns True when models are succesfully learned\n",
    "        '''\n",
    "\n",
    "        for ticker in self.tickers:\n",
    "            X, y  = self.get_data(self.train_start, self.train_end, ticker)\n",
    "            model = self.learner.fit(X,y)\n",
    "            self.models.append((ticker, model))\n",
    "        \n",
    "        return True\n",
    "\n",
    "    def test(self):\n",
    "        '''\n",
    "        INPUT - start and end date for test data as well as list of tickers\n",
    "\n",
    "        OUTPUT - returns true when test is done successfully\n",
    "        '''\n",
    "        for ticker in self.tickers:\n",
    "            Xtest, ytest = self.get_data(self.test_start, self.test_end, ticker)\n",
    "            try:\n",
    "                model = [item[1] for item in self.models if item[0] == ticker][0]\n",
    "            except:\n",
    "                print('Something about ticker consistency not right!')\n",
    "            self.predicts.append((ticker, model.predict(Xtest)))\n",
    "\n",
    "        return True\n",
    "\n",
    "    def show_results(self):\n",
    "        '''\n",
    "        INPUT - self\n",
    "\n",
    "        OUPUT - Outputs the train and test results\n",
    "        '''\n",
    "\n",
    "        self.train()\n",
    "\n",
    "        for tm in self.models:\n",
    "            X, y = self.get_data(self.test_start, self.test_end, ticker = tm[0])\n",
    "            print(\"R-squared on test data for {} between {} and {} is {}\".format(\n",
    "                tm[0], self.test_start, self.test_end,\n",
    "                tm[1].score(X,y)))\n",
    "\n"
   ]
  },
  {
   "cell_type": "code",
   "execution_count": null,
   "metadata": {
    "scrolled": true
   },
   "outputs": [],
   "source": []
  },
  {
   "cell_type": "code",
   "execution_count": 174,
   "metadata": {
    "scrolled": true
   },
   "outputs": [
    {
     "name": "stdout",
     "output_type": "stream",
     "text": [
      "R-squared on test data for GS between 2014-05-01 and 2015-09-01 is 0.9999934960219631\n"
     ]
    }
   ],
   "source": [
    "p= Estimator('gbr','2004-05-01', '2016-05-01', '2014-05-01', '2015-09-01',['GS'], data)\n",
    "p.show_results()"
   ]
  },
  {
   "cell_type": "code",
   "execution_count": null,
   "metadata": {},
   "outputs": [],
   "source": []
  },
  {
   "cell_type": "code",
   "execution_count": 185,
   "metadata": {},
   "outputs": [
    {
     "name": "stdout",
     "output_type": "stream",
     "text": [
      "R-squared on test data for GS between 2014-05-01 and 2015-09-01 is 0.7504013016040402\n",
      "R-squared on test data for GS between 2014-05-01 and 2015-09-01 is 1.0\n",
      "R-squared on test data for GS between 2014-05-01 and 2015-09-01 is 0.9999934960219631\n",
      "R-squared on test data for GS between 2014-05-01 and 2015-09-01 is 0.9897135503236775\n"
     ]
    }
   ],
   "source": [
    "methods = ['linreg', 'knn', 'gbr', 'rfr']\n",
    "for method in methods:\n",
    "    a = Estimator(method,'2004-05-01', '2016-05-01', '2014-05-01', '2015-09-01',['GS'], data)\n",
    "    a.show_results()\n",
    "    a = 0"
   ]
  },
  {
   "cell_type": "code",
   "execution_count": 187,
   "metadata": {},
   "outputs": [
    {
     "name": "stdout",
     "output_type": "stream",
     "text": [
      "R-squared on test data for GS between 2014-05-01 and 2015-09-01 is 0.7504013016040402\n",
      "R-squared on test data for GS between 2014-05-01 and 2015-09-01 is -3.2164701275458123\n",
      "R-squared on test data for GS between 2014-05-01 and 2015-09-01 is 0.9500176011878053\n"
     ]
    },
    {
     "name": "stderr",
     "output_type": "stream",
     "text": [
      "/home/sepehr/projects/env/lib/python3.7/site-packages/sklearn/ensemble/forest.py:245: FutureWarning: The default value of n_estimators will change from 10 in version 0.20 to 100 in 0.22.\n",
      "  \"10 in version 0.20 to 100 in 0.22.\", FutureWarning)\n"
     ]
    },
    {
     "name": "stdout",
     "output_type": "stream",
     "text": [
      "R-squared on test data for GS between 2014-05-01 and 2015-09-01 is 0.985288592887785\n"
     ]
    }
   ],
   "source": [
    "methods = ['linreg', 'knn', 'gbr', 'rfr']\n",
    "for method in methods:\n",
    "    a = Estimator(method,'2004-05-01', '2016-05-01', '2014-05-01', '2015-09-01',['GS'], data)\n",
    "    a.show_results()\n",
    "    a = 0"
   ]
  },
  {
   "cell_type": "code",
   "execution_count": 186,
   "metadata": {},
   "outputs": [],
   "source": [
    "class Estimator:\n",
    "\n",
    "    def __init__(self, estimator_type, trainstart, trainend, teststart,\n",
    "                    testend, tickers_list, dataset):\n",
    "        '''\n",
    "        Constructor that takes in the type of estimator as a parameter\n",
    "        As well as start and end dates for test and train data, the dataset\n",
    "        and the list of tickers\n",
    "        '''\n",
    "        if estimator_type == 'linreg':\n",
    "            self.learner = LinearRegression()\n",
    "        if estimator_type == 'knn':\n",
    "            self.learner = KNeighborsRegressor()\n",
    "        if estimator_type == 'gbr':\n",
    "            self.learner = GradientBoostingRegressor()\n",
    "        if estimator_type == 'rfr':\n",
    "            self.learner = RandomForestRegressor()\n",
    "\n",
    "        self.train_start = trainstart\n",
    "        self.train_end = trainend\n",
    "        self.test_start = teststart\n",
    "        self.test_end = testend\n",
    "\n",
    "        self.tickers = tickers_list\n",
    "        self.data = dataset\n",
    "        self.models = []\n",
    "        self.predicts = []\n",
    "        \n",
    "    def get_data(self, start_date, end_date, ticker):\n",
    "        '''\n",
    "        INPUT - self\n",
    "\n",
    "        OUTPUT - X and y as features and labels\n",
    "        '''\n",
    "        try:\n",
    "\n",
    "            frame = self.data[(self.data.ticker == ticker) & \n",
    "            (self.data.date <= end_date) & (self.data.date >= start_date)]\n",
    "\n",
    "            X = frame[['open', 'high', 'low', 'close', 'volume']]\n",
    "                \n",
    "            y = np.ravel(frame[['adj_close']])\n",
    "\n",
    "        except:\n",
    "            print('No such date available in the dataset. Choose dates again.')\n",
    "        \n",
    "        return X, y\n",
    "\n",
    "\n",
    "    def train(self):\n",
    "        '''\n",
    "        INPUT - self\n",
    "\n",
    "        OUTPUT - Returns True when models are succesfully learned\n",
    "        '''\n",
    "\n",
    "        for ticker in self.tickers:\n",
    "            X, y  = self.get_data(self.train_start, self.train_end, ticker)\n",
    "            model = self.learner.fit(X,y)\n",
    "            self.models.append((ticker, model))\n",
    "        \n",
    "        return True\n",
    "\n",
    "    def test(self):\n",
    "        '''\n",
    "        INPUT - start and end date for test data as well as list of tickers\n",
    "\n",
    "        OUTPUT - returns true when test is done successfully\n",
    "        '''\n",
    "        for ticker in self.tickers:\n",
    "            Xtest, ytest = self.get_data(self.test_start, self.test_end, ticker)\n",
    "            try:\n",
    "                model = [item[1] for item in self.models if item[0] == ticker][0]\n",
    "            except:\n",
    "                print('Something about ticker consistency not right!')\n",
    "            self.predicts.append((ticker, model.predict(Xtest)))\n",
    "\n",
    "        return True\n",
    "\n",
    "    def show_results(self):\n",
    "        '''\n",
    "        INPUT - self\n",
    "\n",
    "        OUPUT - Outputs the train and test results\n",
    "        '''\n",
    "\n",
    "        self.train()\n",
    "\n",
    "        for tm in self.models:\n",
    "            X, y = self.get_data(self.test_start, self.test_end, ticker = tm[0])\n",
    "            print(\"R-squared on test data for {} between {} and {} is {}\".format(\n",
    "                tm[0], self.test_start, self.test_end,\n",
    "                tm[1].score(X,y)))\n",
    "\n",
    "\n",
    "            "
   ]
  }
 ],
 "metadata": {
  "kernelspec": {
   "display_name": "Python 3",
   "language": "python",
   "name": "python3"
  },
  "language_info": {
   "codemirror_mode": {
    "name": "ipython",
    "version": 3
   },
   "file_extension": ".py",
   "mimetype": "text/x-python",
   "name": "python",
   "nbconvert_exporter": "python",
   "pygments_lexer": "ipython3",
   "version": "3.7.5"
  }
 },
 "nbformat": 4,
 "nbformat_minor": 2
}
